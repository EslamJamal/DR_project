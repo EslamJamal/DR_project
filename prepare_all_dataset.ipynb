{
 "cells": [
  {
   "cell_type": "code",
   "execution_count": 1,
   "metadata": {},
   "outputs": [],
   "source": [
    "import numpy as np\n",
    "import pandas as pd\n",
    "import os"
   ]
  },
  {
   "cell_type": "code",
   "execution_count": 3,
   "metadata": {},
   "outputs": [],
   "source": [
    "root_dir = '/media/eslam/7AE0CA83E0CA455B/Users/Eslam100/Documents/kaggledataset/'\n",
    "train_path = os.path.join(root_dir,'train_labels/trainLabels.csv')\n",
    "train_labels = pd.read_csv(train_path)\n",
    "test_path = os.path.join(root_dir,'compressed/retinopathy_solution.csv')\n",
    "test_labels = pd.read_csv(test_path)"
   ]
  },
  {
   "cell_type": "code",
   "execution_count": 5,
   "metadata": {},
   "outputs": [
    {
     "data": {
      "text/plain": [
       "(53576, 3)"
      ]
     },
     "execution_count": 5,
     "metadata": {},
     "output_type": "execute_result"
    }
   ],
   "source": [
    "test_labels.shape"
   ]
  },
  {
   "cell_type": "markdown",
   "metadata": {},
   "source": [
    "### Relabeling"
   ]
  },
  {
   "cell_type": "code",
   "execution_count": 6,
   "metadata": {
    "scrolled": true
   },
   "outputs": [],
   "source": [
    "def relabel(df):\n",
    "    for idx,x in enumerate(df['level']):\n",
    "        if x>1:\n",
    "            df.iloc[idx,1] = 1\n",
    "        else:\n",
    "            continue \n",
    "    return df"
   ]
  },
  {
   "cell_type": "markdown",
   "metadata": {},
   "source": [
    "### Count number of each class"
   ]
  },
  {
   "cell_type": "code",
   "execution_count": 8,
   "metadata": {},
   "outputs": [],
   "source": [
    "def count(df):\n",
    "    zero_count=0\n",
    "    one_count=0\n",
    "    for x in df['level']:\n",
    "        if x == 0:\n",
    "            zero_count +=1\n",
    "        else:\n",
    "            one_count +=1 \n",
    "    print(zero_count)\n",
    "    print(one_count)"
   ]
  },
  {
   "cell_type": "markdown",
   "metadata": {},
   "source": [
    "### Main"
   ]
  },
  {
   "cell_type": "code",
   "execution_count": 9,
   "metadata": {},
   "outputs": [
    {
     "name": "stdout",
     "output_type": "stream",
     "text": [
      "25810\n",
      "9316\n"
     ]
    }
   ],
   "source": [
    "#relabel train file and save it \n",
    "train_labels = relabel(train_labels)\n",
    "count(train_labels)"
   ]
  },
  {
   "cell_type": "code",
   "execution_count": 11,
   "metadata": {},
   "outputs": [],
   "source": [
    "train_labels.to_csv(root_dir+'TrainLabels.csv', sep=',')"
   ]
  },
  {
   "cell_type": "code",
   "execution_count": 12,
   "metadata": {},
   "outputs": [
    {
     "name": "stdout",
     "output_type": "stream",
     "text": [
      "39533\n",
      "14043\n"
     ]
    }
   ],
   "source": [
    "test_labels.drop(['Usage'], axis=1)\n",
    "test_labels = relabel(test_labels)\n",
    "count(test_labels)"
   ]
  },
  {
   "cell_type": "code",
   "execution_count": 14,
   "metadata": {},
   "outputs": [],
   "source": [
    "test_labels.to_csv(root_dir+'TestLabels.csv', sep=',')"
   ]
  },
  {
   "cell_type": "markdown",
   "metadata": {},
   "source": [
    "### Organize test and validation percentage "
   ]
  },
  {
   "cell_type": "code",
   "execution_count": 24,
   "metadata": {},
   "outputs": [],
   "source": [
    "level = []\n",
    "images = []\n",
    "zeroCounter = 0\n",
    "oneCounter = 0\n",
    "for idx, i in enumerate(train_labels['level']):\n",
    "    if i == 0 and zeroCounter < 5000:\n",
    "        level.append(i)\n",
    "        images.append(train_labels['image'][idx])\n",
    "        zeroCounter += 1\n",
    "    elif i == 1 and oneCounter < 5000:\n",
    "        level.append(i)\n",
    "        images.append(train_labels['image'][idx])\n",
    "        oneCounter += 1\n",
    "    else:\n",
    "        continue"
   ]
  },
  {
   "cell_type": "code",
   "execution_count": 25,
   "metadata": {},
   "outputs": [
    {
     "data": {
      "text/plain": [
       "10000"
      ]
     },
     "execution_count": 25,
     "metadata": {},
     "output_type": "execute_result"
    }
   ],
   "source": [
    "len(level)"
   ]
  },
  {
   "cell_type": "code",
   "execution_count": 26,
   "metadata": {},
   "outputs": [],
   "source": [
    "new_testLabels = pd.DataFrame({'image': images, 'level':level})"
   ]
  },
  {
   "cell_type": "code",
   "execution_count": 27,
   "metadata": {},
   "outputs": [],
   "source": [
    "new_testLabels.to_csv(root_dir+'val.csv', sep = ',')"
   ]
  },
  {
   "cell_type": "code",
   "execution_count": 4,
   "metadata": {},
   "outputs": [],
   "source": [
    "# Now, after test labels are ready, we gonna split the training examples\n",
    "root_dir = '/media/eslam/7AE0CA83E0CA455B/Users/Eslam100/Documents/kaggledataset/'\n",
    "train_imgs = os.listdir(root_dir+'train/')\n",
    "normal_val_imgs = os.listdir(root_dir+'new_dataset/val/normal/')\n",
    "upnorm_val_imgs = os.listdir(root_dir+'new_dataset/val/upnormal/')"
   ]
  },
  {
   "cell_type": "code",
   "execution_count": 15,
   "metadata": {},
   "outputs": [],
   "source": [
    "train_imgs = os.listdir(root_dir+'train/')\n",
    "normal_val_imgs = os.listdir(root_dir+'new_dataset/val/normal/')\n",
    "upnorm_val_imgs = os.listdir(root_dir+'new_dataset/val/upnormal/')\n",
    "normal = []\n",
    "upnormal= []\n",
    "for img in train_imgs:\n",
    "    for nrml in normal_val_imgs:\n",
    "        if img == nrml:\n",
    "            normal.append(nrml)\n",
    "    \"\"\"normal_list = [x for x in normal_val_imgs if x==img] \n",
    "    #filter(lambda x: x == img, normal_val_imgs)\n",
    "    upnormal_list = [x for x in upnorm_val_imgs if x==img]\n",
    "    #filter(lambda x: x == img, upnorm_val_imgs)\n",
    "    #break\n",
    "    \"\"\""
   ]
  },
  {
   "cell_type": "code",
   "execution_count": 17,
   "metadata": {},
   "outputs": [],
   "source": [
    "for img in train_imgs:\n",
    "    for upnrml in upnorm_val_imgs:\n",
    "        if img == upnrml:\n",
    "            upnormal.append(upnrml)"
   ]
  },
  {
   "cell_type": "code",
   "execution_count": 26,
   "metadata": {},
   "outputs": [],
   "source": [
    "for x in upnormal:\n",
    "    pth = os.path.join(root_dir+'new_dataset/train/upnormal/',x)\n",
    "    try:\n",
    "        os.unlink(pth)\n",
    "    except:\n",
    "        print(x)\n",
    "        continue\n",
    "    "
   ]
  },
  {
   "cell_type": "code",
   "execution_count": 21,
   "metadata": {},
   "outputs": [
    {
     "data": {
      "text/plain": [
       "'1000_left.jpeg'"
      ]
     },
     "execution_count": 21,
     "metadata": {},
     "output_type": "execute_result"
    }
   ],
   "source": [
    "normal[0]"
   ]
  }
 ],
 "metadata": {
  "kernelspec": {
   "display_name": "Python 3",
   "language": "python",
   "name": "python3"
  },
  "language_info": {
   "codemirror_mode": {
    "name": "ipython",
    "version": 3
   },
   "file_extension": ".py",
   "mimetype": "text/x-python",
   "name": "python",
   "nbconvert_exporter": "python",
   "pygments_lexer": "ipython3",
   "version": "3.6.5"
  }
 },
 "nbformat": 4,
 "nbformat_minor": 2
}
