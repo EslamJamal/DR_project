{
 "cells": [
  {
   "cell_type": "code",
   "execution_count": null,
   "metadata": {
    "collapsed": true
   },
   "outputs": [],
   "source": [
    "import time\n",
    "import os\n",
    "import copy\n",
    "import torch\n",
    "import torch.nn as nn\n",
    "import torch.nn.functional as F\n",
    "import pandas as pd\n",
    "from skimage import io, transform\n",
    "import numpy as np\n",
    "import matplotlib.pyplot as plt\n",
    "from torch.utils.data import Dataset, DataLoader\n",
    "from torchvision import transforms, utils\n",
    "from PIL import Image\n",
    "from torch.autograd import Variable"
   ]
  },
  {
   "cell_type": "markdown",
   "metadata": {},
   "source": [
    "### Dataloader"
   ]
  },
  {
   "cell_type": "code",
   "execution_count": null,
   "metadata": {
    "collapsed": true
   },
   "outputs": [],
   "source": [
    "class myDataset(Dataset):\n",
    "    def __init__(self, csv_path, root_dir, status=1):\n",
    "        self.root_dir = root_dir\n",
    "        \n",
    "        self.data_info = pd.read_csv(csv_path)\n",
    "        #image path\n",
    "        self.img_array = np.asarray(self.data_info.iloc[0:,2])\n",
    "        #labels\n",
    "        self.labels = np.asarray(self.data_info.iloc[0:,3], dtype=np.float32)\n",
    "        #length of data\n",
    "        self.data_len = len(self.data_info.index)\n",
    "        #transformations on the batch\n",
    "            #if status = 1 ===> transforms on train images\n",
    "            #if status = 0 ===> transforms on val images\n",
    "        if status == 1:\n",
    "            self.transformations = transforms.Compose([transforms.Resize((256, 256)),\n",
    "                                                       transforms.RandomRotation((90, 180)),\n",
    "                                                       transforms.ToTensor()])\n",
    "        elif status == 0:\n",
    "            self.transformations = transforms.Compose([transforms.Resize((256, 256)),\n",
    "                                                       transforms.ToTensor()])\n",
    "        else:\n",
    "            raise ValueError('Status should be 1 or 0')\n",
    "    \n",
    "    def __len__(self):\n",
    "        return self.data_len\n",
    "    \n",
    "    def __getitem__(self, idx):\n",
    "        img_path = os.path.join(self.root_dir, self.img_array[idx] + '.jpeg')\n",
    "        image = Image.open(img_path,'r')\n",
    "        img_as_tensor = self.transformations(image)\n",
    "        \n",
    "        return {'image':img_as_tensor,'label':self.labels[idx]}\n",
    "        #return sample\n",
    "    "
   ]
  },
  {
   "cell_type": "markdown",
   "metadata": {},
   "source": [
    "### Train"
   ]
  },
  {
   "cell_type": "code",
   "execution_count": null,
   "metadata": {
    "collapsed": true
   },
   "outputs": [],
   "source": [
    "def train_model(model, dataloader_train, dataloader_val, criterion, optimizer, scheduler, num_epochs):\n",
    "    \n",
    "    start_time = time.time()\n",
    "    best_model_wts = copy.deepcopy(model.state_dict())\n",
    "    best_acc = 0.0\n",
    "    train_losses = []\n",
    "    val_losses = []\n",
    "    train_acc = []\n",
    "    val_acc = []\n",
    "    \n",
    "    for epoch in range(num_epochs):\n",
    "        print 'Epoch {}/{}'.format(epoch, num_epochs - 1)\n",
    "        print '-'*10\n",
    "        \n",
    "        for phase in ['train', 'val']:\n",
    "            if phase == 'train':\n",
    "                scheduler.step()\n",
    "                model.train()\n",
    "            else:\n",
    "                model.eval()\n",
    "\n",
    "            running_loss = 0.0\n",
    "            num_correct = 0\n",
    "            \n",
    "            if phase == 'train':\n",
    "                dataset = dataloader_train\n",
    "            else:\n",
    "                dataset = dataloader_val\n",
    "                \n",
    "            for idx, batch in enumerate(dataset):\n",
    "                data = batch['image']\n",
    "                data = Variable(data)\n",
    "                labels = batch['label']\n",
    "                labels = labels.long()\n",
    "                labels = Variable(labels)\n",
    "                if use_cuda:\n",
    "                    data = data.cuda()\n",
    "                    labels = labels.cuda()\n",
    "\n",
    "                optimizer.zero_grad()\n",
    "                with torch.set_grad_enabled(phase == 'train'):\n",
    "                    output = model(data)\n",
    "                    loss = criterion(output, labels)\n",
    "                    _, preds = torch.max(output.data, 1)\n",
    "\n",
    "                    if phase == 'train':\n",
    "                        loss.backward()\n",
    "                        optimizer.step()\n",
    "                    \n",
    "                running_loss += loss.item()*data.size(0)\n",
    "                num_correct += torch.sum(preds == labels.data)\n",
    "                del data, labels, output, preds\n",
    "                torch.cuda.empty_cache()\n",
    "                break\n",
    "            epoch_loss =  running_loss / (dataset.__len__()*10)\n",
    "            epoch_acc = num_correct.double() / (dataset.__len__()*10)\n",
    "            \n",
    "            if phase == 'train':\n",
    "                train_losses.append(epoch_loss)\n",
    "                train_acc.append(epoch_acc)\n",
    "            else:\n",
    "                val_losses.append(epoch_loss)\n",
    "                val_acc.append(epoch_acc)\n",
    "                \n",
    "            print '{} Loss: {:.4f} Acc: {:.4f}'.format(phase, epoch_loss, epoch_acc)\n",
    "            \n",
    "            if phase == 'val' and epoch_acc > best_acc:\n",
    "                best_acc = epoch_acc\n",
    "                best_model_wts = copy.deepcopy(model.state_dict())\n",
    "            break    \n",
    "        print \n",
    "        print '='*70\n",
    "        print\n",
    "        break\n",
    "    time_elapsed = time.time() - start_time\n",
    "    print 'Training complete in {:.0f}mins {:.0f}secs'.format(time_elapsed // 60, time_elapsed % 60)\n",
    "    print 'Best accuracy {:.4f}'.format(best_acc * 100)\n",
    "    \n",
    "    model.load_state_dict(best_model_wts) #load it again to return it at the main function\n",
    "    model.save_state_dict('model_name.pt')\n",
    "    \n",
    "    return model, train_losses, train_acc, val_losses, val_acc   "
   ]
  },
  {
   "cell_type": "code",
   "execution_count": null,
   "metadata": {
    "collapsed": true
   },
   "outputs": [],
   "source": [
    "def train_model_cpu(model, dataloader_train, dataloader_val, criterion, optimizer, scheduler, num_epochs):\n",
    "    \n",
    "    start_time = time.time()\n",
    "    best_model_wts = copy.deepcopy(model.state_dict())\n",
    "    best_acc = 0.0\n",
    "    \n",
    "    for epoch in range(num_epochs):\n",
    "        print 'Epoch {}/{}'.format(epoch, num_epochs - 1)\n",
    "        print '-'*10\n",
    "        \n",
    "        for phase in ['train', 'val']:\n",
    "            if phase == 'train':\n",
    "                scheduler.step()\n",
    "                model.train()\n",
    "            else:\n",
    "                model.eval()\n",
    "\n",
    "            running_loss = 0.0\n",
    "            \n",
    "            num_correct = 0\n",
    "            \n",
    "            if phase == 'train':\n",
    "                dataset = dataloader_train\n",
    "            else:\n",
    "                dataset = dataloader_val\n",
    "                \n",
    "            for idx, batch in enumerate(dataset):\n",
    "                data = batch['image']\n",
    "                data = Variable(data)\n",
    "                labels = batch['label']\n",
    "                labels = labels.long()\n",
    "                labels = Variable(labels)\n",
    "                #print'labels', labels\n",
    "\n",
    "                optimizer.zero_grad()\n",
    "                with torch.set_grad_enabled(phase == 'train'):\n",
    "                    output = model(data)\n",
    "                    loss = criterion(output, labels)\n",
    "                    #print'loss {}'.format(loss.item())\n",
    "                    _, preds = torch.max(output.data, 1)\n",
    "                    #print'predictions', preds\n",
    "                    if phase == 'train':\n",
    "                        loss.backward()\n",
    "                        optimizer.step()\n",
    "                    \n",
    "                running_loss += loss.item()*data.size(0)\n",
    "                #print'data size {}'.format(data.size(0))\n",
    "                #print'running loss {}'.format(running_loss)\n",
    "                num_correct += torch.sum(preds == labels.data)\n",
    "                #print'number of correct hits {}'.format(num_correct)\n",
    "                #del data, labels, output, preds\n",
    "                #torch.cuda.empty_cache()\n",
    "                #print'#'*30\n",
    "                break\n",
    "            epoch_loss =  running_loss / (dataset.__len__()*10)\n",
    "            epoch_acc = num_correct.double() / (dataset.__len__()*10)   \n",
    "           \n",
    "            print '{} Loss: {:.4f} Acc: {:.4f}'.format(phase, epoch_loss, epoch_acc)\n",
    "            \n",
    "            if phase == 'val' and epoch_acc > best_acc:\n",
    "                best_acc = epoch_acc\n",
    "                best_model_wts = copy.deepcopy(model.state_dict())\n",
    "            #break    \n",
    "        print \n",
    "        print '='*70\n",
    "        print\n",
    "        break\n",
    "    time_elapsed = time.time() - start_time\n",
    "    print 'Training complete in {:.0f}mins {:.0f}secs'.format(time_elapsed // 60, time_elapsed % 60)\n",
    "    print 'Best accuracy {:.4f}'.format(best_acc)\n",
    "    \n",
    "    model.load_state_dict(best_model_wts)\n",
    "    return model, best_acc   "
   ]
  },
  {
   "cell_type": "markdown",
   "metadata": {},
   "source": [
    "### Prepare data"
   ]
  },
  {
   "cell_type": "code",
   "execution_count": null,
   "metadata": {},
   "outputs": [],
   "source": [
    "#csv_path = '/media/eslam/7AE0CA83E0CA455B/Users/Eslam100/Documents/kaggledataset/10k_part/train/labels.csv'\n",
    "root_dir = '/media/eslam/7AE0CA83E0CA455B/Users/Eslam100/Documents/kaggledataset/10k_part/'\n",
    "trainset = myDataset(os.path.join(root_dir,'train/labels.csv'), os.path.join(root_dir,'train'))\n",
    "dataloader_train  = DataLoader(dataset=trainset,\n",
    "                         batch_size=10,\n",
    "                         shuffle=False,\n",
    "                         num_workers=4,\n",
    "                         pin_memory=True)\n",
    "val_set = myDataset(os.path.join(root_dir,'val/labels.csv'), os.path.join(root_dir,'val'))\n",
    "dataloader_val = DataLoader(dataset=val_set,\n",
    "                         batch_size=10,\n",
    "                         shuffle=False,\n",
    "                         num_workers=4,\n",
    "                         pin_memory=True)\n",
    "testset =  myDataset(os.path.join(root_dir,'test/labels.csv'), os.path.join(root_dir,'test'), status=0)\n",
    "dataloader_test = DataLoader(dataset=testset,\n",
    "                         batch_size=15,\n",
    "                         shuffle=False,\n",
    "                         num_workers=4,\n",
    "                         pin_memory=True)"
   ]
  },
  {
   "cell_type": "markdown",
   "metadata": {},
   "source": [
    "### Model"
   ]
  },
  {
   "cell_type": "code",
   "execution_count": null,
   "metadata": {
    "collapsed": true
   },
   "outputs": [],
   "source": [
    "class ConvNet(nn.Module):\n",
    "    \n",
    "    def __init__(self):\n",
    "        super(ConvNet, self).__init__()\n",
    "        self.conv1 = nn.Conv2d(3, 32, 3)\n",
    "        self.conv2 = nn.Conv2d(32, 32, 3)\n",
    "        self.pool1 = nn.MaxPool2d(2, 2)\n",
    "\n",
    "        self.conv3 = nn.Conv2d(32, 64, 3)\n",
    "        self.conv4 = nn.Conv2d(64, 64, 3)\n",
    "        self.pool2 = nn.MaxPool2d(2, 2)\n",
    "\n",
    "        self.conv5 = nn.Conv2d(64, 128, 3)\n",
    "        self.norm1 = nn.BatchNorm2d(128)\n",
    "        self.conv6 = nn.Conv2d(128, 128, 3)\n",
    "        self.pool3 = nn.MaxPool2d(2, 2)\n",
    "\n",
    "        self.conv7 = nn.Conv2d(128, 256, 3)\n",
    "        self.norm2 = nn.BatchNorm2d(256)\n",
    "        self.conv8 = nn.Conv2d(256, 256, 3)\n",
    "        self.pool4 = nn.MaxPool2d(2, 2)\n",
    "\n",
    "        self.fc1 = nn.Linear(256*12*12,4096)\n",
    "        self.dropout = nn.Dropout(p=0.5)\n",
    "        self.fc2 = nn.Linear(4096, 2)\n",
    "    \n",
    "    def forward(self, input):\n",
    "        x = self.pool1(self.conv2(F.relu(self.conv1(input))))\n",
    "        x = self.pool2(self.conv4(F.relu(self.conv3(x))))\n",
    "        x = self.pool3(self.conv6(F.relu(self.norm1(self.conv5(x)))))\n",
    "        x = self.pool4(self.conv8(F.relu(self.norm2(self.conv7(x)))))\n",
    "        #flatten the tensor for the FC\n",
    "        x = x.view(x.size(0), -1)\n",
    "        x = F.relu(self.fc1(x))\n",
    "        x = self.dropout(x)\n",
    "        x = self.fc2(x)\n",
    "        #return F.log_softmax(x, dim=1)\n",
    "        return x\n",
    "    "
   ]
  },
  {
   "cell_type": "markdown",
   "metadata": {},
   "source": [
    "### Confusion matrix"
   ]
  },
  {
   "cell_type": "code",
   "execution_count": null,
   "metadata": {
    "collapsed": true
   },
   "outputs": [],
   "source": [
    "import itertools\n",
    "from sklearn.metrics import confusion_matrix\n",
    "\n",
    "def plot_confusion_matrix(cm, classes, title='Confusion Matrix', cmap=plt.cm.Blues):\n",
    "    print(cm)\n",
    "    \n",
    "    plt.imshow(cm, interpolation='nearest', cmap=cmap)\n",
    "    plt.title(title)\n",
    "    plt.colorbar()\n",
    "    tick_marks = np.arange(len(classes))\n",
    "    plt.xticks(tick_marks, classes, rotation=45)\n",
    "    plt.yticks(tick_marks, classes)\n",
    "    \n",
    "    fmt = 'd'\n",
    "    thresh = cm.max() / 2\n",
    "    for i, j in itertools.product(range(cm.shape[0]), range(cm.shape[1])):\n",
    "        plt.text(j, i, format(cm[i, j], fmt),\n",
    "                horizontalalignment=\"center\",\n",
    "                color=\"white\" if cm[i, j] > thresh else \"black\")\n",
    "    plt.tight_layout()\n",
    "    plt.ylabel('True label')\n",
    "    plt.xlabel('Predicted label')\n",
    "    \n",
    "    \n",
    "def plot_conf_matrix(y_test, y_pred, class_names):\n",
    "    cnf_matrix = confusion_matrix(y_test, y_pred)\n",
    "    np.set_printoptions(precision=2)\n",
    "    print('CCR = {}'.format(np.trace(cnf_matrix) / len(y_test)))\n",
    "    plt.figure()\n",
    "    plot_confusion_matrix(cnf_matrix, classes=class_names, title='Confusion Matrix')\n",
    "    plt.show()"
   ]
  },
  {
   "cell_type": "markdown",
   "metadata": {},
   "source": [
    "### Test model"
   ]
  },
  {
   "cell_type": "code",
   "execution_count": null,
   "metadata": {
    "collapsed": true
   },
   "outputs": [],
   "source": [
    "def test_model(model, dataloader_test, criterion, optimizer, scheduler, num_epochs= 25):\n",
    "    model.eval()\n",
    "    num_correct = 0\n",
    "    test_losses = []\n",
    "    running_loss = 0.0\n",
    "    accuracy = 0\n",
    "    total = dataloader_test.__len__()\n",
    "    for idx, batch in enumerate(dataloader_test):\n",
    "        data = batch['image']\n",
    "        data = Variable(data)\n",
    "        labels = batch['label']\n",
    "        labels = labels.long()\n",
    "        labels = Variable(labels)\n",
    "        if use_cuda:\n",
    "            data = data.cuda()\n",
    "            labels = labels.cuda()\n",
    "        output = model(data)\n",
    "        loss = criterion(output, labels)\n",
    "        _,preds = torch.max(output.data, 1)\n",
    "        running_loss += loss.data[0]*data.size(0)\n",
    "        num_correct += torch.sum(preds == labels.data)\n",
    "        true.extend(labels.data.cpu().numpy().tolist())\n",
    "        pred.extend(preds.cpu().numpy().tolist())\n",
    "        \n",
    "    accuracy = num_correct/total\n",
    "    return accuracy"
   ]
  },
  {
   "cell_type": "markdown",
   "metadata": {
    "collapsed": true
   },
   "source": [
    "### Main CPU "
   ]
  },
  {
   "cell_type": "code",
   "execution_count": null,
   "metadata": {},
   "outputs": [],
   "source": [
    "#use_cuda = torch.cuda.is_available()\n",
    "model = ConvNet()\n",
    "optimizer = torch.optim.Adam(model.parameters(), lr=0.0001)\n",
    "scheduler = torch.optim.lr_scheduler.StepLR(optimizer, step_size=5, gamma=0.1)\n",
    "#criterion = nn.NLLLoss()\n",
    "criterion = nn.CrossEntropyLoss()\n",
    "accuracy =0\n",
    "num_epochs = 25\n",
    "mymodel, accuracy=train_model_cpu(model, dataloader_train, dataloader_val, criterion, optimizer, scheduler, num_epochs=num_epochs)\n",
    "#### plotting ####\n",
    "#x = np.arange(num_epochs)\n"
   ]
  },
  {
   "cell_type": "markdown",
   "metadata": {},
   "source": [
    "### Main"
   ]
  },
  {
   "cell_type": "code",
   "execution_count": null,
   "metadata": {
    "collapsed": true
   },
   "outputs": [],
   "source": [
    "use_cuda = torch.cuda.is_available()\n",
    "model = ConvNet().cuda()\n",
    "optimizer = torch.optim.Adam(model.parameters(), lr=0.0001)\n",
    "scheduler = torch.optim.lr_scheduler.StepLR(optimizer, step_size=2, gamma=0.1)\n",
    "#criterion = nn.NLLLoss().cuda()\n",
    "criterion = nn.NLLLoss().cuda()\n",
    "accuracy =0\n",
    "num_epochs = 25\n",
    "true = []\n",
    "pred = []\n",
    "class_names = ['0', '1', '2', '3', '4']\n",
    "mymodel, train_losses, train_acc, val_losses, val_acc=train_model(model, dataloader_train, dataloader_val, criterion, optimizer, scheduler, num_epochs=25)\n",
    "accuracy = test_model(mymodel, dataloader_test, criterion, optimizer, scheduler, num_epochs = 25)\n",
    "plot_conf_matrix(true, pred, class_names)\n",
    "\n",
    "### plotting ###\n",
    "epochsRange = np.array(range(num_epochs))\n",
    "plt.plot(epochsRange, train_losses, label='Training')\n",
    "plt.plot(epochsRange, val_losses, label='Validation')\n",
    "plt.title('Loss')\n",
    "plt.legend(loc='upper right')\n",
    "plt.show()\n",
    "\n",
    "plt.plot(epochsRange, train_acc, label='Training')\n",
    "plt.plot(epochsRange, val_acc, label='Validation')\n",
    "plt.title('Accuracy')\n",
    "plt.legend(loc='upper right')\n",
    "plt.show()"
   ]
  },
  {
   "cell_type": "code",
   "execution_count": null,
   "metadata": {
    "collapsed": true
   },
   "outputs": [],
   "source": []
  },
  {
   "cell_type": "code",
   "execution_count": null,
   "metadata": {
    "collapsed": true
   },
   "outputs": [],
   "source": []
  },
  {
   "cell_type": "code",
   "execution_count": null,
   "metadata": {
    "collapsed": true
   },
   "outputs": [],
   "source": []
  },
  {
   "cell_type": "code",
   "execution_count": null,
   "metadata": {
    "collapsed": true
   },
   "outputs": [],
   "source": []
  },
  {
   "cell_type": "code",
   "execution_count": null,
   "metadata": {
    "collapsed": true
   },
   "outputs": [],
   "source": []
  },
  {
   "cell_type": "code",
   "execution_count": null,
   "metadata": {
    "collapsed": true
   },
   "outputs": [],
   "source": []
  }
 ],
 "metadata": {
  "kernelspec": {
   "display_name": "Python 2",
   "language": "python",
   "name": "python2"
  },
  "language_info": {
   "codemirror_mode": {
    "name": "ipython",
    "version": 2
   },
   "file_extension": ".py",
   "mimetype": "text/x-python",
   "name": "python",
   "nbconvert_exporter": "python",
   "pygments_lexer": "ipython2",
   "version": "2.7.13"
  }
 },
 "nbformat": 4,
 "nbformat_minor": 2
}
