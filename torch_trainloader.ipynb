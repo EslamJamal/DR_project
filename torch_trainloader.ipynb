{
 "cells": [
  {
   "cell_type": "code",
   "execution_count": 1,
   "metadata": {
    "collapsed": true
   },
   "outputs": [],
   "source": [
    "import os\n",
    "import torch\n",
    "import torch.nn as nn\n",
    "import torch.nn.functional as F\n",
    "import pandas as pd\n",
    "from skimage import io, transform\n",
    "import numpy as np\n",
    "import matplotlib.pyplot as plt\n",
    "from torch.utils.data import Dataset, DataLoader\n",
    "from torchvision import transforms, utils\n",
    "from PIL import Image\n"
   ]
  },
  {
   "cell_type": "markdown",
   "metadata": {},
   "source": [
    "### Split label file to train, val and test"
   ]
  },
  {
   "cell_type": "code",
   "execution_count": null,
   "metadata": {
    "collapsed": true
   },
   "outputs": [],
   "source": [
    "train_labels = labels.loc[0:5999,:]\n",
    "train_labels.to_csv('/media/eslam/7AE0CA83E0CA455B/Users/Eslam100/Documents/kaggledataset/10k_part/train/labels.csv', sep=',')\n",
    "val_labels = labels.loc[6000:7999,:]\n",
    "val_labels.to_csv('/media/eslam/7AE0CA83E0CA455B/Users/Eslam100/Documents/kaggledataset/10k_part/val/labels.csv', sep=',')\n",
    "test_labels = labels.loc[8000:9999,:]\n",
    "test_labels.to_csv('/media/eslam/7AE0CA83E0CA455B/Users/Eslam100/Documents/kaggledataset/10k_part/test/labels.csv', sep=',')\n",
    "\n"
   ]
  },
  {
   "cell_type": "markdown",
   "metadata": {},
   "source": [
    "### Customized dataloader for the dataset"
   ]
  },
  {
   "cell_type": "code",
   "execution_count": 13,
   "metadata": {
    "collapsed": true
   },
   "outputs": [],
   "source": [
    "class myDataset(Dataset):\n",
    "    def __init__(self, csv_path, root_dir):\n",
    "        self.root_dir = root_dir\n",
    "        \n",
    "        self.data_info = pd.read_csv(csv_path, header=None)\n",
    "        #image path\n",
    "        self.img_array = np.asarray(self.data_info.iloc[1:,1])\n",
    "        #labels\n",
    "        self.labels = np.asarray(self.data_info.iloc[1:,2], dtype=np.float32)\n",
    "        #length of data\n",
    "        self.data_len = len(self.data_info.index)\n",
    "        #transformations on the batch\n",
    "        self.transformations = transforms.Compose([transforms.Resize((256, 256)), transforms.ToTensor()])\n",
    "    \n",
    "    def __len__(self):\n",
    "        return self.data_len\n",
    "    \n",
    "    def __getitem__(self, idx):\n",
    "        img_path = os.path.join(self.root_dir, self.img_array[idx] + '.jpeg')\n",
    "        image = Image.open(img_path,'r')\n",
    "        img_as_tensor = self.transformations(image)\n",
    "        \n",
    "        return {'image':img_as_tensor,'label':self.labels[idx]}\n",
    "        #return sample\n",
    "    "
   ]
  },
  {
   "cell_type": "code",
   "execution_count": 4,
   "metadata": {},
   "outputs": [],
   "source": [
    "csv_path = '/media/eslam/7AE0CA83E0CA455B/Users/Eslam100/Documents/kaggledataset/10k_part/train/labels.csv'\n",
    "root_dir = '/media/eslam/7AE0CA83E0CA455B/Users/Eslam100/Documents/kaggledataset/10k_part/train/'\n",
    "trainset = myDataset(csv_path, root_dir)"
   ]
  },
  {
   "cell_type": "code",
   "execution_count": 6,
   "metadata": {},
   "outputs": [
    {
     "name": "stdout",
     "output_type": "stream",
     "text": [
      "torch.Size([10])\n",
      "torch.Size([10, 196608])\n"
     ]
    }
   ],
   "source": [
    "trainloader  = DataLoader(dataset=trainset,\n",
    "                         batch_size=10,\n",
    "                         shuffle=False,\n",
    "                         num_workers=4,\n",
    "                         pin_memory=True)\n",
    "for i, batch in enumerate(trainloader):\n",
    "    print batch['label'].size()\n",
    "    x = batch['image'].view(batch['image'].size(0), -1)\n",
    "    print x.size()\n",
    "    break"
   ]
  },
  {
   "cell_type": "markdown",
   "metadata": {},
   "source": [
    "### Plot a batch to make sure it's loaded properly"
   ]
  },
  {
   "cell_type": "code",
   "execution_count": null,
   "metadata": {},
   "outputs": [],
   "source": [
    "trainloader  = DataLoader(dataset=trainset,\n",
    "                         batch_size=5,\n",
    "                         shuffle=False,\n",
    "                         num_workers=4,\n",
    "                         pin_memory=True)\n",
    "\n",
    "def plot_batch(sample_batch):\n",
    "    images_batch = sample_batch['image']\n",
    "    batch_size = len(images_batch)\n",
    "    im_size = images_batch.size(2)\n",
    "    grid = utils.make_grid(images_batch)\n",
    "    plt.imshow(grid.numpy().transpose((1, 2, 0)))\n",
    "    plt.title('Batch from dataloader')\n",
    "    \n",
    "for i, sample_batch in enumerate(trainloader):\n",
    "    if i ==3:\n",
    "        plot_batch(sample_batch)\n",
    "        plt.show()\n",
    "        break"
   ]
  },
  {
   "cell_type": "markdown",
   "metadata": {},
   "source": [
    "### Model architecture"
   ]
  },
  {
   "cell_type": "code",
   "execution_count": null,
   "metadata": {
    "collapsed": true
   },
   "outputs": [],
   "source": []
  },
  {
   "cell_type": "code",
   "execution_count": 11,
   "metadata": {
    "collapsed": true
   },
   "outputs": [],
   "source": [
    "class ConvNet(nn.Module):\n",
    "    \n",
    "    def __init__(self):\n",
    "        super(ConvNet, self).__init__()\n",
    "        self.conv1 = nn.Conv2d(3, 32, 3)\n",
    "        self.conv2 = nn.Conv2d(32, 32, 3)\n",
    "        self.pool1 = nn.MaxPool2d(2, 2)\n",
    "\n",
    "        self.conv3 = nn.Conv2d(32, 64, 3)\n",
    "        self.conv4 = nn.Conv2d(64, 64, 3)\n",
    "        self.pool2 = nn.MaxPool2d(2, 2)\n",
    "\n",
    "        self.conv5 = nn.Conv2d(64, 128, 3)\n",
    "        self.conv6 = nn.Conv2d(128, 128, 3)\n",
    "        self.pool3 = nn.MaxPool2d(2, 2)\n",
    "\n",
    "        self.conv7 = nn.Conv2d(128, 256, 3)\n",
    "        self.conv8 = nn.Conv2d(256, 256, 3)\n",
    "        self.pool4 = nn.MaxPool2d(2, 2)\n",
    "\n",
    "        self.fc1 = nn.Linear(256*12*12,4096)\n",
    "        self.fc2 = nn.Linear(4096, 5)\n",
    "    \n",
    "    def forward(self, input):\n",
    "        x = self.pool1(self.conv2(F.relu(self.conv1(input))))\n",
    "        x = self.pool2(self.conv4(F.relu(self.conv3(x))))\n",
    "        x = self.pool3(self.conv6(F.relu(self.conv5(x))))\n",
    "        x = self.pool4(self.conv8(F.relu(self.conv7(x))))\n",
    "        #flatten the tensor for the FC\n",
    "        x = x.view(x.size(0), -1)\n",
    "        x = self.fc1(x)\n",
    "        x = self.fc2(x)\n",
    "        return x\n",
    "    \n",
    "    "
   ]
  },
  {
   "cell_type": "code",
   "execution_count": null,
   "metadata": {},
   "outputs": [],
   "source": [
    "use_cuda = torch.cuda.is_available()\n",
    "learning_rate = 0.0001\n",
    "l2_penalty = 0.001\n",
    "batch_size = 5\n",
    "num_epochs = 60\n",
    "display_step = 10\n",
    "\n",
    "trainset = myDataset(csv_path, root_dir)\n",
    "trainloader  = DataLoader(dataset=trainset,\n",
    "                         batch_size=1,\n",
    "                         shuffle=False,\n",
    "                         num_workers=4,\n",
    "                         pin_memory=True)\n",
    "model = ConvNet().cuda()\n",
    "optimizer = torch.optim.RMSprop(model.parameters(), lr=learning_rate, weight_decay=0.0)\n",
    "scheduler_model = torch.optim.lr_scheduler.StepLR(optimizer, step_size=1, gamma=1.0)\n",
    "criterion = nn.MSELoss(size_average=True).cuda()\n",
    "losses = []\n",
    "for epoch in range(num_epochs):\n",
    "    loss_ = 0.\n",
    "    predicted = []\n",
    "    ground_truth = []\n",
    "    for batch in trainloader:\n",
    "        data = batch['image']\n",
    "        labels = batch['label']\n",
    "        labels.unsqueeze_(0)\n",
    "        if use_cuda:\n",
    "            data = data.cuda()\n",
    "            labels = labels.cuda()\n",
    "        if labels.data.size()[0] == batch_size:\n",
    "            optimizer.zero_grad()\n",
    "            output = model(data)\n",
    "            loss = criterion(output, labels)\n",
    "            loss_ += loss.data[0]\n",
    "            loss.backward()\n",
    "            optimizer.step()\n",
    "    break\n",
    "    print 'Epoch number:', epoch\n",
    "    print 'the Loss of the current epoch:', loss_\n",
    "break"
   ]
  },
  {
   "cell_type": "code",
   "execution_count": null,
   "metadata": {
    "collapsed": true
   },
   "outputs": [],
   "source": []
  },
  {
   "cell_type": "code",
   "execution_count": null,
   "metadata": {
    "collapsed": true
   },
   "outputs": [],
   "source": []
  },
  {
   "cell_type": "code",
   "execution_count": null,
   "metadata": {
    "collapsed": true
   },
   "outputs": [],
   "source": []
  }
 ],
 "metadata": {
  "kernelspec": {
   "display_name": "Python 2",
   "language": "python",
   "name": "python2"
  },
  "language_info": {
   "codemirror_mode": {
    "name": "ipython",
    "version": 2
   },
   "file_extension": ".py",
   "mimetype": "text/x-python",
   "name": "python",
   "nbconvert_exporter": "python",
   "pygments_lexer": "ipython2",
   "version": "2.7.13"
  }
 },
 "nbformat": 4,
 "nbformat_minor": 2
}
